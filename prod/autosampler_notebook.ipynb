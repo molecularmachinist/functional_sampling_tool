{
 "cells": [
  {
   "cell_type": "code",
   "execution_count": 1,
   "id": "2b452d78",
   "metadata": {},
   "outputs": [],
   "source": [
    "import os, shutil\n",
    "import subprocess as subp\n",
    "import numpy as np\n",
    "import mdtraj\n",
    "import matplotlib.pyplot as plt\n",
    "import scipy.signal"
   ]
  },
  {
   "cell_type": "code",
   "execution_count": 2,
   "id": "eb183536",
   "metadata": {},
   "outputs": [],
   "source": [
    "# number of simulations per epoch\n",
    "N = 16\n",
    "gmx = \"gmx\"\n",
    "\n",
    "# input files for grompping\n",
    "mdp   = \"mdrun.mdp\"\n",
    "topol = \"topol.top\"\n",
    "ndx   = \"index_grompp.ndx\"\n",
    "\n",
    "# sbatch template variables\n",
    "email= \"santeri.e.paajanen@helsinki.fi\"\n",
    "account=\"project_2004581\""
   ]
  },
  {
   "cell_type": "code",
   "execution_count": 3,
   "id": "717967e6",
   "metadata": {},
   "outputs": [],
   "source": [
    "def gromacs_command(cmd, *args, input=None, **kwargs):\n",
    "    \"\"\" Call the gromacs subcommand cmd. Both args and keys of kwargs should be without the leading dash.\n",
    "        output is redirected to output_<cmd>.txt.\n",
    "    \"\"\"\n",
    "    command = [gmx, cmd]+[\"-\"+a for a in args]\n",
    "    for k in kwargs:\n",
    "        command += [\"-\"+k, kwargs[k]]\n",
    "    \n",
    "    with open(\"output_%s.txt\"%cmd, \"w\") as fout:\n",
    "        compProc = subp.run(command, stdout=fout, stderr=subp.STDOUT, input=input)\n",
    "    \n",
    "    return compProc.returncode\n",
    "\n",
    "def init_rep(i):\n",
    "    \"\"\" Initializes rep i\n",
    "    \"\"\"\n",
    "    os.makedirs(\"epoch01/rep%02d\"%i)\n",
    "    \n",
    "    # If not found, just load the default\n",
    "    shutil.copyfile(\"initial/start.gro\", \"epoch01/rep%02d/start.gro\"%i)\n",
    "    print(\"Copied initial/start.gro to rep%02d, starting to grompp...\"%i)\n",
    "\n",
    "    # Save original working dir to come back to\n",
    "    prevdir = os.getcwd()\n",
    "    try:\n",
    "        os.chdir(\"epoch01/rep%02d\"%i)\n",
    "\n",
    "        rc=gromacs_command(\"grompp\", c=\"start.gro\", f=\"../../\"+mdp, n=\"../../\"+ndx,\n",
    "                           p=\"../../\"+topol, o=\"mdrun.tpr\", maxwarn=\"1\")\n",
    "\n",
    "        print(\"Process returned %d\"%rc)\n",
    "\n",
    "    finally:\n",
    "        # Whatever happens, we go back to the original working dir\n",
    "        os.chdir(prevdir)"
   ]
  },
  {
   "cell_type": "code",
   "execution_count": 4,
   "id": "compatible-furniture",
   "metadata": {},
   "outputs": [
    {
     "name": "stdout",
     "output_type": "stream",
     "text": [
      "Process returned 0\n"
     ]
    }
   ],
   "source": [
    "# Make a pdb file for mdtraj\n",
    "\n",
    "# Save original working dir to come back to\n",
    "prevdir = os.getcwd()\n",
    "try:\n",
    "    os.chdir(\"initial\")\n",
    "\n",
    "    rc = gromacs_command(\"trjconv\", f=\"start.gro\", s=\"start.gro\", o=\"start.pdb\", input=b\"0\\n\")\n",
    "    print(\"Process returned %d\"%rc)\n",
    "finally:\n",
    "    # Whatever happens, we go back to the original working dir\n",
    "    os.chdir(prevdir)"
   ]
  },
  {
   "cell_type": "code",
   "execution_count": 5,
   "id": "47ade70a",
   "metadata": {},
   "outputs": [
    {
     "name": "stdout",
     "output_type": "stream",
     "text": [
      "Copied initial/start.gro to rep01, starting to grompp...\n",
      "Process returned 0\n",
      "Copied initial/start.gro to rep02, starting to grompp...\n",
      "Process returned 0\n",
      "Copied initial/start.gro to rep03, starting to grompp...\n",
      "Process returned 0\n",
      "Copied initial/start.gro to rep04, starting to grompp...\n",
      "Process returned 0\n",
      "Copied initial/start.gro to rep05, starting to grompp...\n",
      "Process returned 0\n",
      "Copied initial/start.gro to rep06, starting to grompp...\n",
      "Process returned 0\n",
      "Copied initial/start.gro to rep07, starting to grompp...\n",
      "Process returned 0\n",
      "Copied initial/start.gro to rep08, starting to grompp...\n",
      "Process returned 0\n",
      "Copied initial/start.gro to rep09, starting to grompp...\n",
      "Process returned 0\n",
      "Copied initial/start.gro to rep10, starting to grompp...\n",
      "Process returned 0\n",
      "Copied initial/start.gro to rep11, starting to grompp...\n",
      "Process returned 0\n",
      "Copied initial/start.gro to rep12, starting to grompp...\n",
      "Process returned 0\n",
      "Copied initial/start.gro to rep13, starting to grompp...\n",
      "Process returned 0\n",
      "Copied initial/start.gro to rep14, starting to grompp...\n",
      "Process returned 0\n",
      "Copied initial/start.gro to rep15, starting to grompp...\n",
      "Process returned 0\n",
      "Copied initial/start.gro to rep16, starting to grompp...\n",
      "Process returned 0\n"
     ]
    }
   ],
   "source": [
    "# Initial structures and first epoch\n",
    "os.makedirs(\"epoch01\", exist_ok=False)\n",
    "\n",
    "for i in range(1,N+1):\n",
    "    init_rep(i)"
   ]
  },
  {
   "cell_type": "code",
   "execution_count": 4,
   "id": "premier-province",
   "metadata": {},
   "outputs": [],
   "source": [
    "############################## User input ############################\n",
    "# To save memory we only load this selection\n",
    "# mdtraj selection string https://www.mdtraj.org/1.9.5/atom_selection.html\n",
    "select_str = \"protein and residue 638 and not (name =~ 'H.*')\"\n",
    "\n",
    "# Minimum and maximum values to sample from between. None to ignore boundary, \"start\" string to use the\n",
    "# initial value of the starting structure\n",
    "minval=0.79\n",
    "maxval=1.4\n",
    "\n",
    "\n",
    "def function_val(positions):\n",
    "    \"\"\"\n",
    "      Write here your analysis function. Positions will be\n",
    "        numpy array of shape (n,m,3) for n frames of m atoms.\n",
    "        Note that m is the number of atoms in the selection,\n",
    "        not the whole trajectory.\n",
    "      The function should return a numpy array of shape (n).\n",
    "    \"\"\"\n",
    "    m = positions.shape[-2]\n",
    "    # 4 residues match, so we separate them\n",
    "    m_res = m//4\n",
    "    # selections for each res\n",
    "    ind1 = np.array(list(range(m_res)))\n",
    "    ind2 = m_res+ind1\n",
    "    ind3 = m_res+ind2\n",
    "    ind4 = m_res+ind3\n",
    "    \n",
    "    # distances between average position of res1 to average position of res3\n",
    "    dist1 = np.linalg.norm(np.mean(positions[:,ind1,:], axis=-2)-np.mean(positions[:,ind3,:], axis=-2), axis=-1)\n",
    "    # same for res 2 and 4\n",
    "    dist2 = np.linalg.norm(np.mean(positions[:,ind2,:], axis=-2)-np.mean(positions[:,ind4,:], axis=-2), axis=-1)\n",
    "    \n",
    "    return np.minimum(dist1, dist2)\n",
    "\n",
    "\n",
    "\n",
    "############################## User input ############################"
   ]
  },
  {
   "cell_type": "code",
   "execution_count": 5,
   "id": "wanted-audit",
   "metadata": {},
   "outputs": [],
   "source": [
    "load_fval = False # set to True to recalculate analysis even if fval.npy is present\n",
    "epoch_dir = \"\" # set if current dir is not the dir with the epoch-directories (and initial-dir)\n",
    "\n",
    "def load_data(struct, sel, epoch):\n",
    "    fval = []\n",
    "    for i in range(1,N+1):\n",
    "        d = epoch_dir+\"epoch%02d/rep%02d/\"%(epoch, i)\n",
    "        if(not load_fval):\n",
    "            try:\n",
    "                fval.append(np.load(d+\"fval.npy\"))\n",
    "                print(\"Loaded fval from %sfval.npy\"%d)\n",
    "                continue\n",
    "            except FileNotFoundError:\n",
    "                print(\"Could not open %s\"%(d+\"fval.npy\"))\n",
    "                \n",
    "        print(\"Loading trajectory %s\"%(d+\"mdrun.xtc\"))\n",
    "        traj = mdtraj.load(d+\"mdrun.xtc\", top=struct,atom_indices=sel)\n",
    "        print(\"Calculating fval\")\n",
    "        fval.append(function_val(traj.xyz))\n",
    "        print(\"Saving fval\")\n",
    "        np.save(d+\"fval.npy\", fval[-1])\n",
    "    \n",
    "    reps = [np.full(f.shape,i+1) for i,f in enumerate(fval)]\n",
    "    frms = [np.arange(len(f)) for f in fval]\n",
    "    \n",
    "    return np.concatenate(reps), np.concatenate(fval), np.concatenate(frms)"
   ]
  },
  {
   "cell_type": "code",
   "execution_count": 6,
   "id": "bigger-growth",
   "metadata": {},
   "outputs": [
    {
     "name": "stdout",
     "output_type": "stream",
     "text": [
      "Loading structure and making selection\n",
      "Selected 28 atoms\n"
     ]
    }
   ],
   "source": [
    "print(\"Loading structure and making selection\")\n",
    "struct = mdtraj.load(epoch_dir+\"initial/start.pdb\")\n",
    "sel = struct.topology.select(select_str)\n",
    "\n",
    "startval = function_val(struct.xyz[:,sel,:])\n",
    "\n",
    "# Min and maxvals\n",
    "if(minval==\"start\"):\n",
    "    minval=startval\n",
    "elif(minval is None):\n",
    "    minval=-np.inf\n",
    "\n",
    "if(maxval==\"start\"):\n",
    "    maxval=startval\n",
    "elif(minval is None):\n",
    "    maxval=np.inf\n",
    "\n",
    "\n",
    "print(\"Selected %d atoms\"%len(sel))"
   ]
  },
  {
   "cell_type": "code",
   "execution_count": 7,
   "id": "level-wales",
   "metadata": {},
   "outputs": [
    {
     "name": "stdout",
     "output_type": "stream",
     "text": [
      "Loaded fval from epoch01/rep01/fval.npy\n",
      "Loaded fval from epoch01/rep02/fval.npy\n",
      "Loaded fval from epoch01/rep03/fval.npy\n",
      "Loaded fval from epoch01/rep04/fval.npy\n",
      "Loaded fval from epoch01/rep05/fval.npy\n",
      "Loaded fval from epoch01/rep06/fval.npy\n",
      "Loaded fval from epoch01/rep07/fval.npy\n",
      "Loaded fval from epoch01/rep08/fval.npy\n",
      "Loaded fval from epoch01/rep09/fval.npy\n",
      "Loaded fval from epoch01/rep10/fval.npy\n",
      "Loaded fval from epoch01/rep11/fval.npy\n",
      "Loaded fval from epoch01/rep12/fval.npy\n",
      "Loaded fval from epoch01/rep13/fval.npy\n",
      "Loaded fval from epoch01/rep14/fval.npy\n",
      "Loaded fval from epoch01/rep15/fval.npy\n",
      "Loaded fval from epoch01/rep16/fval.npy\n",
      "Loaded fval from epoch02/rep01/fval.npy\n",
      "Loaded fval from epoch02/rep02/fval.npy\n",
      "Loaded fval from epoch02/rep03/fval.npy\n",
      "Loaded fval from epoch02/rep04/fval.npy\n",
      "Loaded fval from epoch02/rep05/fval.npy\n",
      "Loaded fval from epoch02/rep06/fval.npy\n",
      "Loaded fval from epoch02/rep07/fval.npy\n",
      "Loaded fval from epoch02/rep08/fval.npy\n",
      "Loaded fval from epoch02/rep09/fval.npy\n",
      "Loaded fval from epoch02/rep10/fval.npy\n",
      "Loaded fval from epoch02/rep11/fval.npy\n",
      "Loaded fval from epoch02/rep12/fval.npy\n",
      "Loaded fval from epoch02/rep13/fval.npy\n",
      "Loaded fval from epoch02/rep14/fval.npy\n",
      "Loaded fval from epoch02/rep15/fval.npy\n",
      "Loaded fval from epoch02/rep16/fval.npy\n"
     ]
    }
   ],
   "source": [
    "epochs = 2\n",
    "fval = []\n",
    "reps = []\n",
    "frms = []\n",
    "for i in range(1,epochs+1):\n",
    "    r,f,fr = load_data(struct, sel, i)\n",
    "    reps.append(r)\n",
    "    fval.append(f)\n",
    "    frms.append(fr)\n",
    "\n",
    "    \n",
    "epcs = [np.full(f.shape,i+1) for i,f in enumerate(fval)]\n",
    "\n",
    "reps = np.concatenate(reps)\n",
    "fval = np.concatenate(fval)\n",
    "epcs = np.concatenate(epcs)\n",
    "frms = np.concatenate(frms)"
   ]
  },
  {
   "cell_type": "code",
   "execution_count": 8,
   "id": "outstanding-rwanda",
   "metadata": {},
   "outputs": [
    {
     "name": "stdout",
     "output_type": "stream",
     "text": [
      "20875\n",
      "1.3507534 0.79 20618 206 0.006660842895507812\n"
     ]
    },
    {
     "data": {
      "image/png": "[encoded data removed]",
      "text/plain": [
       "<Figure size 432x288 with 1 Axes>"
      ]
     },
     "metadata": {
      "needs_background": "light"
     },
     "output_type": "display_data"
    }
   ],
   "source": [
    "print(len(fval))\n",
    "_largest_val = np.max(fval)\n",
    "_lowest_val  = np.min(fval)\n",
    "_binmax = min(_largest_val, maxval)\n",
    "_binmin = max(_lowest_val,  minval)\n",
    "_maxbins = np.sum((fval>minval)*(fval<maxval))//100\n",
    "_binsize = (_largest_val-_lowest_val)/min(_maxbins,100)\n",
    "print(_binmax,_binmin, np.sum((fval>minval)*(fval<maxval)),_maxbins,_binsize)\n",
    "bin_edges = np.arange(_lowest_val,_largest_val+_binsize , _binsize)\n",
    "hist, bin_edges = np.histogram(fval, bins=bin_edges)\n",
    "bin_centers = (bin_edges[:-1]+bin_edges[1:])/2\n",
    "# higher edge larger than minval AND lower edge lower than maxval\n",
    "mask = (bin_edges[1:]>minval)*(bin_edges[:-1]<maxval)\n",
    "\n",
    "for i in range(1,epochs+1):\n",
    "    _ep_hist, _ = np.histogram(fval[epcs==i], bins=bin_edges)\n",
    "    plt.plot(bin_centers, _ep_hist, \"--\", color=\"C%d\"%(i+2), label=\"Epoch %d\"%i)\n",
    "\n",
    "\n",
    "plt.plot(bin_centers, hist, color=\"C0\", alpha=0.5)\n",
    "plt.plot(bin_centers[mask], hist[mask], color=\"C0\", label=\"Total\")\n",
    "plt.axvline(startval, linestyle=\"-.\", color=\"C1\", label=\"Start\", alpha=0.5)\n",
    "plt.axvline(minval, linestyle=\"-.\", color=\"C2\", label=\"Boundaries\")\n",
    "plt.axvline(maxval, linestyle=\"-.\", color=\"C2\")\n",
    "plt.legend()\n",
    "plt.show()\n"
   ]
  },
  {
   "cell_type": "code",
   "execution_count": 11,
   "id": "ec9806e5",
   "metadata": {},
   "outputs": [
    {
     "name": "stdout",
     "output_type": "stream",
     "text": [
      "[] {'prominences': array([], dtype=float64), 'left_bases': array([], dtype=int64), 'right_bases': array([], dtype=int64)}\n"
     ]
    },
    {
     "data": {
      "image/png": "[encoded data removed]",
      "text/plain": [
       "<Figure size 432x288 with 1 Axes>"
      ]
     },
     "metadata": {
      "needs_background": "light"
     },
     "output_type": "display_data"
    }
   ],
   "source": [
    "from math import floor, ceil\n",
    "\n",
    "def rolling_mean(data, window=10, center = True, fill=np.nan):\n",
    "    if(center):\n",
    "        start_offset = floor(window/2)\n",
    "        end_offset   = -ceil(window/2)+1\n",
    "        if(end_offset==0): end_offset=None\n",
    "    else:\n",
    "        start_offset = window-1\n",
    "        end_offset   = None\n",
    "\n",
    "    window-=1\n",
    "    if(window==0): window=None\n",
    "\n",
    "    cumsum = np.nancumsum(data, axis=0, dtype=float)\n",
    "    mean   = np.full_like(cumsum, fill)\n",
    "    mean[start_offset:end_offset] = (cumsum[window:]-cumsum[:-window])/window\n",
    "\n",
    "    return mean\n",
    "\n",
    "_smoothed = rolling_mean(-hist[mask])\n",
    "_nanmask = np.isfinite(_smoothed)\n",
    "_peaks,_que = scipy.signal.find_peaks(_smoothed[_nanmask], prominence=0.6)\n",
    "print(_peaks, _que)\n",
    "\n",
    "plt.plot(bin_centers, hist, color=\"C0\", alpha=0.5)\n",
    "plt.plot(bin_centers[mask], hist[mask], color=\"C0\")\n",
    "plt.plot(bin_centers[mask], -_smoothed, color=\"C1\")\n",
    "plt.axvline(startval, color=\"C2\")\n",
    "plt.plot(bin_centers[mask][_nanmask][_peaks], hist[mask][_nanmask][_peaks], \"ro\")\n",
    "plt.show()"
   ]
  },
  {
   "cell_type": "code",
   "execution_count": 105,
   "id": "2f6dea39",
   "metadata": {},
   "outputs": [
    {
     "data": {
      "image/png": "[encoded data removed]",
      "text/plain": [
       "<Figure size 432x288 with 1 Axes>"
      ]
     },
     "metadata": {
      "needs_background": "light"
     },
     "output_type": "display_data"
    },
    {
     "data": {
      "image/png": "[encoded data removed]",
      "text/plain": [
       "<Figure size 432x288 with 1 Axes>"
      ]
     },
     "metadata": {
      "needs_background": "light"
     },
     "output_type": "display_data"
    },
    {
     "name": "stdout",
     "output_type": "stream",
     "text": [
      "1 1.3007971048355123 1.2974666833877584 1.3041275262832661\n",
      "24 1.2541712045669575 1.2508407831192034 1.2575016260147114\n",
      "41 0.7879122018814091 0.7845817804336551 0.791242623329163\n"
     ]
    },
    {
     "data": {
      "image/png": "[encoded data removed]",
      "text/plain": [
       "<Figure size 432x288 with 1 Axes>"
      ]
     },
     "metadata": {
      "needs_background": "light"
     },
     "output_type": "display_data"
    }
   ],
   "source": [
    "_big_bins = np.linspace(bin_edges[:-1][mask][0], bin_edges[1:][mask][-1], 7)\n",
    "\n",
    "_big_hist, _ = np.histogram(fval, bins=_big_bins)\n",
    "_big_bin_cnt = (_big_bins[1:]+_big_bins[:-1])/2\n",
    "\n",
    "_srt_ndx = np.argsort(_big_hist)\n",
    "\n",
    "plt.plot(_big_bin_cnt,_big_hist)\n",
    "plt.show()\n",
    "\n",
    "plt.plot(_big_hist[_srt_ndx])\n",
    "plt.show()\n",
    "\n",
    "\n",
    "_choices = []\n",
    "_choose_bins=3\n",
    "for i in range(_choose_bins):\n",
    "    _binmask = mask*(bin_centers>_big_bins[_srt_ndx[i]])*(bin_centers<_big_bins[_srt_ndx[i]+1])*(hist!=0)\n",
    "    _smallest_bin = np.argmin(hist[_binmask])\n",
    "    _choices.append(np.arange(len(hist))[_binmask][_smallest_bin])\n",
    "    print(hist[_choices[-1]], bin_centers[_choices[-1]], bin_edges[_choices[-1]], bin_edges[_choices[-1]+1])\n",
    "\n",
    "for i in range(N-len(_choices)):\n",
    "    _choices.append(_choices[i])\n",
    "\n",
    "chosen_bins=_choices\n",
    "\n",
    "plt.plot(bin_centers, hist, color=\"C0\", alpha=0.5)\n",
    "plt.plot(bin_centers[mask], hist[mask], color=\"C0\")\n",
    "plt.plot(bin_centers[_choices], hist[_choices], \"bx\")\n",
    "plt.show()"
   ]
  },
  {
   "cell_type": "code",
   "execution_count": 102,
   "id": "447bfcf1",
   "metadata": {},
   "outputs": [
    {
     "name": "stdout",
     "output_type": "stream",
     "text": [
      "[1.0656693  1.0846553  0.89519197 ... 0.9828224  0.93200225 0.92001694] [0.9289329  1.1973913  1.1177722  ... 0.84039277 0.83234626 1.1439747 ]\n",
      "(10438,) (10437,)\n"
     ]
    },
    {
     "name": "stderr",
     "output_type": "stream",
     "text": [
      "/home/paajasan/anaconda3/lib/python3.7/site-packages/IPython/core/interactiveshell.py:3441: RankWarning: Polyfit may be poorly conditioned\n",
      "  exec(code_obj, self.user_global_ns, self.user_ns)\n",
      "/home/paajasan/anaconda3/lib/python3.7/site-packages/IPython/core/interactiveshell.py:3441: RankWarning: Polyfit may be poorly conditioned\n",
      "  exec(code_obj, self.user_global_ns, self.user_ns)\n",
      "/home/paajasan/anaconda3/lib/python3.7/site-packages/IPython/core/interactiveshell.py:3441: RankWarning: Polyfit may be poorly conditioned\n",
      "  exec(code_obj, self.user_global_ns, self.user_ns)\n",
      "/home/paajasan/anaconda3/lib/python3.7/site-packages/IPython/core/interactiveshell.py:3441: RankWarning: Polyfit may be poorly conditioned\n",
      "  exec(code_obj, self.user_global_ns, self.user_ns)\n",
      "/home/paajasan/anaconda3/lib/python3.7/site-packages/IPython/core/interactiveshell.py:3441: RankWarning: Polyfit may be poorly conditioned\n",
      "  exec(code_obj, self.user_global_ns, self.user_ns)\n",
      "/home/paajasan/anaconda3/lib/python3.7/site-packages/IPython/core/interactiveshell.py:3441: RankWarning: Polyfit may be poorly conditioned\n",
      "  exec(code_obj, self.user_global_ns, self.user_ns)\n",
      "/home/paajasan/anaconda3/lib/python3.7/site-packages/IPython/core/interactiveshell.py:3441: RankWarning: Polyfit may be poorly conditioned\n",
      "  exec(code_obj, self.user_global_ns, self.user_ns)\n",
      "/home/paajasan/anaconda3/lib/python3.7/site-packages/IPython/core/interactiveshell.py:3441: RankWarning: Polyfit may be poorly conditioned\n",
      "  exec(code_obj, self.user_global_ns, self.user_ns)\n",
      "/home/paajasan/anaconda3/lib/python3.7/site-packages/IPython/core/interactiveshell.py:3441: RankWarning: Polyfit may be poorly conditioned\n",
      "  exec(code_obj, self.user_global_ns, self.user_ns)\n",
      "/home/paajasan/anaconda3/lib/python3.7/site-packages/IPython/core/interactiveshell.py:3441: RankWarning: Polyfit may be poorly conditioned\n",
      "  exec(code_obj, self.user_global_ns, self.user_ns)\n",
      "/home/paajasan/anaconda3/lib/python3.7/site-packages/IPython/core/interactiveshell.py:3441: RankWarning: Polyfit may be poorly conditioned\n",
      "  exec(code_obj, self.user_global_ns, self.user_ns)\n",
      "/home/paajasan/anaconda3/lib/python3.7/site-packages/IPython/core/interactiveshell.py:3441: RankWarning: Polyfit may be poorly conditioned\n",
      "  exec(code_obj, self.user_global_ns, self.user_ns)\n",
      "/home/paajasan/anaconda3/lib/python3.7/site-packages/IPython/core/interactiveshell.py:3441: RankWarning: Polyfit may be poorly conditioned\n",
      "  exec(code_obj, self.user_global_ns, self.user_ns)\n"
     ]
    },
    {
     "data": {
      "image/png": "[encoded data removed]",
      "text/plain": [
       "<Figure size 432x288 with 1 Axes>"
      ]
     },
     "metadata": {
      "needs_background": "light"
     },
     "output_type": "display_data"
    },
    {
     "name": "stdout",
     "output_type": "stream",
     "text": [
      "[0.93745137 1.29624182 1.32872953] [-96821.2911377   19628.22998047 -29854.09295654]\n",
      "[1.29624182] [19628.22998047]\n",
      "17\n"
     ]
    },
    {
     "data": {
      "image/png": "[encoded data removed]",
      "text/plain": [
       "<Figure size 432x288 with 1 Axes>"
      ]
     },
     "metadata": {
      "needs_background": "light"
     },
     "output_type": "display_data"
    }
   ],
   "source": [
    "from sklearn.model_selection import train_test_split\n",
    "_f_train, _f_test = train_test_split(fval, test_size=0.5)\n",
    "print(_f_test, _f_train)\n",
    "print(_f_test.shape, _f_train.shape)\n",
    "\n",
    "_ttbins = np.linspace(bin_edges[:-1][mask][0],bin_edges[1:][mask][-1], 41)\n",
    "_bincents = (_ttbins[:-1]+_ttbins[1:])/2\n",
    "\n",
    "_train_hist, _ = np.histogram(_f_train, bins=_ttbins, density=True)\n",
    "_test_hist,  _ = np.histogram(_f_test,  bins=_ttbins, density=True)\n",
    "\n",
    "_degs = np.arange(5,25)\n",
    "_pols = []\n",
    "_chi2 = []\n",
    "\n",
    "_x = np.linspace(_minbin,_maxbin,10000)\n",
    "\n",
    "for d in _degs:\n",
    "    _pol = np.poly1d(np.polyfit(_bincents, _train_hist, d))\n",
    "    _pols.append(_pol)\n",
    "    _dist = np.sum((_test_hist-_pol(_bincents))**2)/len(_bincents)\n",
    "    _chi2.append(_dist)\n",
    "    #plt.plot(_x, _pol(_x))\n",
    "\n",
    "plt.plot(_degs, _chi2)\n",
    "plt.show()\n",
    "\n",
    "\n",
    "# Find real unique roots\n",
    "extr = dpol.roots\n",
    "extr = np.unique(np.real(extr[np.isreal(extr)]))\n",
    "print(extr, ddpol(extr))\n",
    "\n",
    "# filter values outside our range\n",
    "extr = extr[(_minbin<extr)*(extr<_maxbin)]\n",
    "# filter maxima and plateaus\n",
    "extr = extr[ddpol(extr)>0]\n",
    "print(extr, ddpol(extr))\n",
    "\n",
    "\n",
    "\n",
    "_pol_arg = np.argmin(_chi2)\n",
    "\n",
    "print(_degs[_pol_arg])\n",
    "    \n",
    "plt.plot(_bincents, _train_hist)\n",
    "plt.plot(_bincents, _test_hist)\n",
    "plt.plot(_x, _pols[_pol_arg](_x))\n",
    "plt.show()"
   ]
  },
  {
   "cell_type": "code",
   "execution_count": 39,
   "id": "9c86c5fd",
   "metadata": {
    "scrolled": false
   },
   "outputs": [
    {
     "name": "stdout",
     "output_type": "stream",
     "text": [
      "[0.93745137 1.29624182 1.32872953] [-96821.2911377   19628.22998047 -29854.09295654]\n",
      "[1.29624182] [19628.22998047]\n",
      "16\n"
     ]
    },
    {
     "data": {
      "image/png": "[encoded data removed]",
      "text/plain": [
       "<Figure size 432x288 with 1 Axes>"
      ]
     },
     "metadata": {
      "needs_background": "light"
     },
     "output_type": "display_data"
    }
   ],
   "source": [
    "p = np.polyfit(bin_centers[mask], hist[mask], 10)\n",
    "pol = np.poly1d(p)\n",
    "dpol = pol.deriv()\n",
    "ddpol = dpol.deriv()\n",
    "\n",
    "_minbin = bin_centers[mask][0]\n",
    "_maxbin = bin_centers[mask][-1]\n",
    "\n",
    "# Find real unique roots\n",
    "extr = dpol.roots\n",
    "extr = np.unique(np.real(extr[np.isreal(extr)]))\n",
    "print(extr, ddpol(extr))\n",
    "\n",
    "# filter values outside our range\n",
    "extr = extr[(_minbin<extr)*(extr<_maxbin)]\n",
    "# filter maxima and plateaus\n",
    "extr = extr[ddpol(extr)>0]\n",
    "print(extr, ddpol(extr))\n",
    "\n",
    "# ends\n",
    "extr = list(extr)\n",
    "if(dpol(_minbin)>0):\n",
    "    extr.append(_minbin)\n",
    "if(dpol(_maxbin)<0):\n",
    "    extr.append(_maxbin)\n",
    "    \n",
    "extr = np.array(extr)\n",
    "\n",
    "\n",
    "_choices = []\n",
    "for e in extr:\n",
    "    _choices.append(np.argmin(np.abs(bin_centers-e+np.where(hist==0, np.inf, 0))))\n",
    "\n",
    "for i in range(N-len(_choices)):\n",
    "    _choices.append(_choices[i])\n",
    "\n",
    "print(len(_choices))\n",
    "_choices=np.array(_choices)\n",
    "\n",
    "_x = np.linspace(_minbin,_maxbin,10000)\n",
    "\n",
    "plt.plot(bin_centers, hist, color=\"C0\", alpha=0.5)\n",
    "plt.plot(bin_centers[mask], hist[mask], color=\"C0\")\n",
    "plt.plot(_x, pol(_x), color=\"C1\")\n",
    "plt.axvline(startval, color=\"C2\")\n",
    "plt.plot(extr, pol(extr), \"ro\")\n",
    "plt.plot(bin_centers[_choices], hist[_choices], \"bx\")\n",
    "plt.show()"
   ]
  },
  {
   "cell_type": "code",
   "execution_count": 73,
   "id": "integral-allen",
   "metadata": {},
   "outputs": [],
   "source": [
    "def choose_frames(chosen_bins):\n",
    "    global bin_edges, fval, epcs, reps, frms\n",
    "    _rng = np.random.default_rng()\n",
    "    # lists for value, rpoch, rep and frame\n",
    "    v,e,r,f=[],[],[],[]\n",
    "    for bi in chosen_bins:\n",
    "        vals_in_bin = (fval >= bin_edges[bi])*(fval < bin_edges[bi+1])\n",
    "        ndx = _rng.choice(np.sum(vals_in_bin))\n",
    "        \n",
    "        v.append(fval[vals_in_bin][ndx])\n",
    "        e.append(epcs[vals_in_bin][ndx])\n",
    "        r.append(reps[vals_in_bin][ndx])\n",
    "        f.append(frms[vals_in_bin][ndx])\n",
    "    \n",
    "    return np.array(v), np.array(e), np.array(r), np.array(f)\n",
    "\n",
    "\n",
    "def next_rep(i,newepoch,oldepoch,rep,frm, val):\n",
    "    \"\"\" Initializes rep i of newepoch, taking the frame frm from rep of oldepoch\n",
    "    \"\"\"\n",
    "    global struct\n",
    "    os.makedirs(\"epoch%02d/rep%02d\"%(newepoch, i))\n",
    "    \n",
    "    print(\"Reading frame %d of epoch %d, rep %d\"%(frm, oldepoch, rep))\n",
    "    init_struct = mdtraj.load_frame(\"epoch%02d/rep%02d/mdrun.xtc\"%(oldepoch, rep), frm, top=struct)\n",
    "    \n",
    "    init_struct.save_gro(\"epoch%02d/rep%02d/start.gro\"%(newepoch, i))\n",
    "    print(\"Wrote structure to epoch%02d/rep%02d/start.gro, starting to grompp...\"%(newepoch, i))\n",
    "    \n",
    "    # Make a note of the origin\n",
    "    with open(\"epoch%02d/rep%02d/origin.txt\"%(newepoch, i), \"w\") as f:\n",
    "        f.write(\"# Origin of this trajectory:\\n\")\n",
    "        f.write(\"# epoch rep frame val\\n\")\n",
    "        f.write(\"%d %d %d %f\\n\"%(oldepoch,rep,frm, val))\n",
    "\n",
    "    # Save original working dir to come back to\n",
    "    prevdir = os.getcwd()\n",
    "    try:\n",
    "        os.chdir(\"epoch%02d/rep%02d\"%(newepoch, i))\n",
    "        \n",
    "        # The pdb structure seems to change the atom names, so maxwarn is 2\n",
    "        rc=gromacs_command(\"grompp\", c=\"start.gro\", f=\"../../\"+mdp, n=\"../../\"+ndx,\n",
    "                           p=\"../../\"+topol, o=\"mdrun.tpr\", maxwarn=\"2\")\n",
    "\n",
    "        print(\"Process returned %d\"%rc)\n",
    "\n",
    "    finally:\n",
    "        # Whatever happens, we go back to the original working dir\n",
    "        os.chdir(prevdir)\n",
    "        \n",
    "def start_epoch(nextepoch):\n",
    "    global email, account\n",
    "    v, e, r, f = choose_frames(chosen_bins)\n",
    "    print(v, e, r, f)\n",
    "    \n",
    "    os.makedirs(\"epoch%02d\"%(nextepoch))\n",
    "        \n",
    "    # copy sbatch template\n",
    "    with open(\"templates/sbatch_launch.sh\") as fin:\n",
    "        with open(\"epoch%02d/sbatch_launch.sh\"%nextepoch, \"w\") as fout:\n",
    "            fout.write(fin.read().format(i=nextepoch, account=account, email=email))\n",
    "\n",
    "    for i, (val, epoch, rep, frm) in enumerate(zip(v,e,r,f)):\n",
    "        next_rep(i+1, nextepoch, epoch, rep, frm, val)"
   ]
  },
  {
   "cell_type": "code",
   "execution_count": 106,
   "id": "united-vegetation",
   "metadata": {},
   "outputs": [
    {
     "name": "stdout",
     "output_type": "stream",
     "text": [
      "3\n",
      "[1.301225   1.2565589  0.789945   1.301225   1.2523186  0.78635615\n",
      " 1.301225   1.2552956  0.78506017 1.301225   1.2510968  0.7909247\n",
      " 1.301225   1.2572048  0.7855209  1.301225  ] [1 1 2 1 1 2 1 1 2 1 1 2 1 1 2 1] [16  3  8 16 14  8 16  3 16 16  3  8 16  1 16 16] [ 24  47 354  24 541 566  24 572  39  24 221 540  24  34  41  24]\n",
      "Reading frame 24 of epoch 1, rep 16\n",
      "Wrote structure to epoch03/rep01/start.gro, starting to grompp...\n",
      "Process returned 0\n",
      "Reading frame 47 of epoch 1, rep 3\n",
      "Wrote structure to epoch03/rep02/start.gro, starting to grompp...\n",
      "Process returned 0\n",
      "Reading frame 354 of epoch 2, rep 8\n",
      "Wrote structure to epoch03/rep03/start.gro, starting to grompp...\n",
      "Process returned 0\n",
      "Reading frame 24 of epoch 1, rep 16\n",
      "Wrote structure to epoch03/rep04/start.gro, starting to grompp...\n",
      "Process returned 0\n",
      "Reading frame 541 of epoch 1, rep 14\n",
      "Wrote structure to epoch03/rep05/start.gro, starting to grompp...\n",
      "Process returned 0\n",
      "Reading frame 566 of epoch 2, rep 8\n",
      "Wrote structure to epoch03/rep06/start.gro, starting to grompp...\n",
      "Process returned 0\n",
      "Reading frame 24 of epoch 1, rep 16\n",
      "Wrote structure to epoch03/rep07/start.gro, starting to grompp...\n",
      "Process returned 0\n",
      "Reading frame 572 of epoch 1, rep 3\n",
      "Wrote structure to epoch03/rep08/start.gro, starting to grompp...\n",
      "Process returned 0\n",
      "Reading frame 39 of epoch 2, rep 16\n",
      "Wrote structure to epoch03/rep09/start.gro, starting to grompp...\n",
      "Process returned 0\n",
      "Reading frame 24 of epoch 1, rep 16\n",
      "Wrote structure to epoch03/rep10/start.gro, starting to grompp...\n",
      "Process returned 0\n",
      "Reading frame 221 of epoch 1, rep 3\n",
      "Wrote structure to epoch03/rep11/start.gro, starting to grompp...\n",
      "Process returned 0\n",
      "Reading frame 540 of epoch 2, rep 8\n",
      "Wrote structure to epoch03/rep12/start.gro, starting to grompp...\n",
      "Process returned 0\n",
      "Reading frame 24 of epoch 1, rep 16\n",
      "Wrote structure to epoch03/rep13/start.gro, starting to grompp...\n",
      "Process returned 0\n",
      "Reading frame 34 of epoch 1, rep 1\n",
      "Wrote structure to epoch03/rep14/start.gro, starting to grompp...\n",
      "Process returned 0\n",
      "Reading frame 41 of epoch 2, rep 16\n",
      "Wrote structure to epoch03/rep15/start.gro, starting to grompp...\n",
      "Process returned 0\n",
      "Reading frame 24 of epoch 1, rep 16\n",
      "Wrote structure to epoch03/rep16/start.gro, starting to grompp...\n",
      "Process returned 0\n"
     ]
    }
   ],
   "source": [
    "nextepoch = epochs+1\n",
    "print(nextepoch)\n",
    "start_epoch(nextepoch)"
   ]
  },
  {
   "cell_type": "code",
   "execution_count": null,
   "id": "choice-carol",
   "metadata": {},
   "outputs": [],
   "source": []
  }
 ],
 "metadata": {
  "kernelspec": {
   "display_name": "Python 3",
   "language": "python",
   "name": "python3"
  },
  "language_info": {
   "codemirror_mode": {
    "name": "ipython",
    "version": 3
   },
   "file_extension": ".py",
   "mimetype": "text/x-python",
   "name": "python",
   "nbconvert_exporter": "python",
   "pygments_lexer": "ipython3",
   "version": "3.7.10"
  }
 },
 "nbformat": 4,
 "nbformat_minor": 5
}
