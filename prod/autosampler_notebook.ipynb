{
 "cells": [
  {
   "cell_type": "code",
   "execution_count": 1,
   "id": "2b452d78",
   "metadata": {},
   "outputs": [],
   "source": [
    "import os, shutil\n",
    "import subprocess as subp"
   ]
  },
  {
   "cell_type": "code",
   "execution_count": 2,
   "id": "eb183536",
   "metadata": {},
   "outputs": [],
   "source": [
    "# number of simulations per epoch\n",
    "N = 16\n",
    "grompp = [\"gmx\",\"grompp\"]"
   ]
  },
  {
   "cell_type": "code",
   "execution_count": 5,
   "id": "717967e6",
   "metadata": {},
   "outputs": [],
   "source": [
    "def init_rep(i):\n",
    "    \"\"\" Initializes rep i\n",
    "    \"\"\"\n",
    "    os.makedirs(\"epoch01/rep%02d\"%i, exist_ok=True)\n",
    "    shutil.copyfile(\"initial/start%02d.gro\"%i, \"epoch01/rep%02d/start.gro\"%i)\n",
    "    print(\"Copied initial/start%02d.gro, starting to grompp...\"%i)\n",
    "    \n",
    "    prevdir = os.getcwd()\n",
    "    os.chdir(\"epoch01/rep%02d\"%i)\n",
    "    \n",
    "    cmd = grompp + [\"-c\", \"start.gro\", \"-f\", \"../../mdrun.mdp\", \"-n\", \"../../index_grompp.ndx\", \\\n",
    "                    \"-p\", \"../../topol.top\", \"-o\", \"mdrun.tpr\", \"-maxwarn\", \"1\"]\n",
    "\n",
    "    with open(\"output_grompp.txt\", \"w\") as fout:\n",
    "        compProc = subp.run(cmd, stdout=fout, stderr=subp.STDOUT)\n",
    "    \n",
    "    os.chdir(prevdir)\n",
    "    print(\"Process returned %d\"%compProc.returncode)"
   ]
  },
  {
   "cell_type": "code",
   "execution_count": 6,
   "id": "47ade70a",
   "metadata": {},
   "outputs": [
    {
     "name": "stdout",
     "output_type": "stream",
     "text": [
      "Copied initial/start01.gro, starting to grompp...\n",
      "Process returned 0\n",
      "Copied initial/start02.gro, starting to grompp...\n",
      "Process returned 0\n",
      "Copied initial/start03.gro, starting to grompp...\n",
      "Process returned 0\n",
      "Copied initial/start04.gro, starting to grompp...\n",
      "Process returned 0\n",
      "Copied initial/start05.gro, starting to grompp...\n",
      "Process returned 0\n",
      "Copied initial/start06.gro, starting to grompp...\n",
      "Process returned 0\n",
      "Copied initial/start07.gro, starting to grompp...\n",
      "Process returned 0\n",
      "Copied initial/start08.gro, starting to grompp...\n",
      "Process returned 0\n",
      "Copied initial/start09.gro, starting to grompp...\n",
      "Process returned 0\n",
      "Copied initial/start10.gro, starting to grompp...\n",
      "Process returned 0\n",
      "Copied initial/start11.gro, starting to grompp...\n",
      "Process returned 0\n",
      "Copied initial/start12.gro, starting to grompp...\n",
      "Process returned 0\n",
      "Copied initial/start13.gro, starting to grompp...\n",
      "Process returned 0\n",
      "Copied initial/start14.gro, starting to grompp...\n",
      "Process returned 0\n",
      "Copied initial/start15.gro, starting to grompp...\n",
      "Process returned 0\n",
      "Copied initial/start16.gro, starting to grompp...\n",
      "Process returned 0\n"
     ]
    }
   ],
   "source": [
    "# Initial structures and first epoch\n",
    "os.makedirs(\"epoch01\", exist_ok=True)\n",
    "\n",
    "for i in range(1,N+1):\n",
    "    init_rep(i)"
   ]
  },
  {
   "cell_type": "code",
   "execution_count": null,
   "id": "ccd36c1d",
   "metadata": {},
   "outputs": [],
   "source": []
  }
 ],
 "metadata": {
  "kernelspec": {
   "display_name": "Python 3",
   "language": "python",
   "name": "python3"
  },
  "language_info": {
   "codemirror_mode": {
    "name": "ipython",
    "version": 3
   },
   "file_extension": ".py",
   "mimetype": "text/x-python",
   "name": "python",
   "nbconvert_exporter": "python",
   "pygments_lexer": "ipython3",
   "version": "3.7.10"
  }
 },
 "nbformat": 4,
 "nbformat_minor": 5
}
