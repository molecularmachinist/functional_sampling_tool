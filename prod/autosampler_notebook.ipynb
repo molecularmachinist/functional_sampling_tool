{
 "cells": [
  {
   "cell_type": "code",
   "execution_count": 1,
   "id": "2b452d78",
   "metadata": {},
   "outputs": [],
   "source": [
    "import os, shutil\n",
    "import subprocess as subp\n",
    "import numpy as np\n",
    "import mdtraj\n",
    "import matplotlib.pyplot as plt"
   ]
  },
  {
   "cell_type": "code",
   "execution_count": 2,
   "id": "eb183536",
   "metadata": {},
   "outputs": [],
   "source": [
    "# number of simulations per epoch\n",
    "N = 16\n",
    "gmx = \"gmx\"\n",
    "\n",
    "# input files for grompping\n",
    "mdp   = \"mdrun.mdp\"\n",
    "topol = \"topol.top\"\n",
    "ndx   = \"index_grompp.ndx\""
   ]
  },
  {
   "cell_type": "code",
   "execution_count": 3,
   "id": "717967e6",
   "metadata": {},
   "outputs": [],
   "source": [
    "def gromacs_command(cmd, *args, input=None, **kwargs):\n",
    "    \"\"\" Call the gromacs subcommand cmd. Both args and keys of kwargs should be without the leading dash.\n",
    "        output is redirected to output_<cmd>.txt.\n",
    "    \"\"\"\n",
    "    command = [gmx, cmd]+[\"-\"+a for a in args]\n",
    "    for k in kwargs:\n",
    "        command += [\"-\"+k, kwargs[k]]\n",
    "    \n",
    "    with open(\"output_%s.txt\"%cmd, \"w\") as fout:\n",
    "        compProc = subp.run(command, stdout=fout, stderr=subp.STDOUT, input=input)\n",
    "    \n",
    "    return compProc.returncode\n",
    "\n",
    "def init_rep(i):\n",
    "    \"\"\" Initializes rep i\n",
    "    \"\"\"\n",
    "    os.makedirs(\"epoch01/rep%02d\"%i)\n",
    "    \n",
    "    # If not found, just load the default\n",
    "    shutil.copyfile(\"initial/start.gro\", \"epoch01/rep%02d/start.gro\"%i)\n",
    "    print(\"Copied initial/start.gro to rep%02d, starting to grompp...\"%i)\n",
    "\n",
    "    # Save original working dir to come back to\n",
    "    prevdir = os.getcwd()\n",
    "    try:\n",
    "        os.chdir(\"epoch01/rep%02d\"%i)\n",
    "\n",
    "        rc=gromacs_command(\"grompp\", c=\"start.gro\", f=\"../../\"+mdp, n=\"../../\"+ndx,\n",
    "                           p=\"../../\"+topol, o=\"mdrun.tpr\", maxwarn=\"1\")\n",
    "\n",
    "        print(\"Process returned %d\"%rc)\n",
    "\n",
    "    finally:\n",
    "        # Whatever happens, we go back to the original working dir\n",
    "        os.chdir(prevdir)"
   ]
  },
  {
   "cell_type": "code",
   "execution_count": 4,
   "id": "compatible-furniture",
   "metadata": {},
   "outputs": [
    {
     "name": "stdout",
     "output_type": "stream",
     "text": [
      "Process returned 0\n"
     ]
    }
   ],
   "source": [
    "# Make a pdb file for mdtraj\n",
    "prevdir = os.getcwd()\n",
    "try:\n",
    "    os.chdir(\"initial\")\n",
    "\n",
    "    rc = gromacs_command(\"trjconv\", f=\"start.gro\", s=\"start.gro\", o=\"start.pdb\", input=b\"0\\n\")\n",
    "    print(\"Process returned %d\"%rc)\n",
    "finally:\n",
    "    os.chdir(prevdir)"
   ]
  },
  {
   "cell_type": "code",
   "execution_count": 5,
   "id": "47ade70a",
   "metadata": {},
   "outputs": [
    {
     "name": "stdout",
     "output_type": "stream",
     "text": [
      "Copied initial/start.gro to rep01, starting to grompp...\n",
      "Process returned 0\n",
      "Copied initial/start.gro to rep02, starting to grompp...\n",
      "Process returned 0\n",
      "Copied initial/start.gro to rep03, starting to grompp...\n",
      "Process returned 0\n",
      "Copied initial/start.gro to rep04, starting to grompp...\n",
      "Process returned 0\n",
      "Copied initial/start.gro to rep05, starting to grompp...\n",
      "Process returned 0\n",
      "Copied initial/start.gro to rep06, starting to grompp...\n",
      "Process returned 0\n",
      "Copied initial/start.gro to rep07, starting to grompp...\n",
      "Process returned 0\n",
      "Copied initial/start.gro to rep08, starting to grompp...\n",
      "Process returned 0\n",
      "Copied initial/start.gro to rep09, starting to grompp...\n",
      "Process returned 0\n",
      "Copied initial/start.gro to rep10, starting to grompp...\n",
      "Process returned 0\n",
      "Copied initial/start.gro to rep11, starting to grompp...\n",
      "Process returned 0\n",
      "Copied initial/start.gro to rep12, starting to grompp...\n",
      "Process returned 0\n",
      "Copied initial/start.gro to rep13, starting to grompp...\n",
      "Process returned 0\n",
      "Copied initial/start.gro to rep14, starting to grompp...\n",
      "Process returned 0\n",
      "Copied initial/start.gro to rep15, starting to grompp...\n",
      "Process returned 0\n",
      "Copied initial/start.gro to rep16, starting to grompp...\n",
      "Process returned 0\n"
     ]
    }
   ],
   "source": [
    "# Initial structures and first epoch\n",
    "os.makedirs(\"epoch01\", exist_ok=True)\n",
    "\n",
    "for i in range(1,N+1):\n",
    "    init_rep(i)"
   ]
  },
  {
   "cell_type": "code",
   "execution_count": 6,
   "id": "premier-province",
   "metadata": {},
   "outputs": [],
   "source": [
    "############################## User input ############################\n",
    "# To save memory we only load this selection\n",
    "# mdtraj selection string https://www.mdtraj.org/1.9.5/atom_selection.html\n",
    "select_str = \"protein and residue 638 and not (name =~ 'H.*')\"\n",
    "\n",
    "\n",
    "def function_val(positions):\n",
    "    \"\"\"\n",
    "      Write here your analysis function. Positions will be\n",
    "        numpy array of shape (n,m,3) for n frames of m atoms.\n",
    "        Note that m is the number of atoms in the selection,\n",
    "        not the whole trajectory.\n",
    "      The function should return a numpy array of shape (n).\n",
    "    \"\"\"\n",
    "    m = positions.shape[-2]\n",
    "    # 4 residues match, so we separate them\n",
    "    m_res = m//4\n",
    "    # selections for each res\n",
    "    ind1 = np.array(list(range(m_res)))\n",
    "    ind2 = m_res+ind1\n",
    "    ind3 = m_res+ind2\n",
    "    ind4 = m_res+ind3\n",
    "    \n",
    "    # distances between average position of res1 to average position of res3\n",
    "    dist1 = np.linalg.norm(np.mean(positions[:,ind1,:], axis=-2)-np.mean(positions[:,ind3,:], axis=-2), axis=-1)\n",
    "    # same for res 2 and 4\n",
    "    dist2 = np.linalg.norm(np.mean(positions[:,ind2,:], axis=-2)-np.mean(positions[:,ind4,:], axis=-2), axis=-1)\n",
    "    \n",
    "    return np.minimum(dist1, dist2)\n",
    "\n",
    "\n",
    "\n",
    "############################## User input ############################"
   ]
  },
  {
   "cell_type": "code",
   "execution_count": 7,
   "id": "wanted-audit",
   "metadata": {},
   "outputs": [],
   "source": [
    "load_fval = False # set to True to recalculate analysis even if fval.npy is present\n",
    "epoch_dir = \"dump/\" # set if current dir is not the dir with the epoch-directories (and initial-dir)\n",
    "\n",
    "def load_data(struct, sel, epoch):\n",
    "    fval = []\n",
    "    for i in range(1,N+1):\n",
    "        d = epoch_dir+\"epoch%02d/rep%02d/\"%(epoch, i)\n",
    "        if(not load_fval):\n",
    "            try:\n",
    "                fval.append(np.load(d+\"fval.npy\"))\n",
    "                print(\"Loaded fval from %sfval.npy\"%d)\n",
    "                continue\n",
    "            except FileNotFoundError:\n",
    "                print(\"Could not open %s\"%(d+\"fval.npy\"))\n",
    "                \n",
    "        print(\"Loading trajectory %s\"%(d+\"mdrun.xtc\"))\n",
    "        traj = mdtraj.load(d+\"mdrun.xtc\", top=struct,atom_indices=sel)\n",
    "        print(\"Calculating fval\")\n",
    "        fval.append(function_val(traj.xyz))\n",
    "        print(\"Saving fval\")\n",
    "        np.save(d+\"fval.npy\", fval[-1])\n",
    "    \n",
    "    reps = [np.full(f.shape,i+1) for i,f in enumerate(fval)]\n",
    "    \n",
    "    return np.concatenate(reps), np.concatenate(fval)"
   ]
  },
  {
   "cell_type": "code",
   "execution_count": 8,
   "id": "bigger-growth",
   "metadata": {},
   "outputs": [
    {
     "name": "stdout",
     "output_type": "stream",
     "text": [
      "Loading structure and making selection\n",
      "Selected 28 atoms\n"
     ]
    }
   ],
   "source": [
    "print(\"Loading structure and making selection\")\n",
    "struct = mdtraj.load(epoch_dir+\"initial/start.pdb\")\n",
    "sel = struct.topology.select(select_str)\n",
    "\n",
    "startval = function_val(struct.xyz[:,sel,:])\n",
    "\n",
    "print(\"Selected %d atoms\"%len(sel))"
   ]
  },
  {
   "cell_type": "code",
   "execution_count": 9,
   "id": "level-wales",
   "metadata": {},
   "outputs": [
    {
     "name": "stdout",
     "output_type": "stream",
     "text": [
      "Loaded fval from dump/epoch01/rep01/fval.npy\n",
      "Loaded fval from dump/epoch01/rep02/fval.npy\n",
      "Loaded fval from dump/epoch01/rep03/fval.npy\n",
      "Loaded fval from dump/epoch01/rep04/fval.npy\n",
      "Loaded fval from dump/epoch01/rep05/fval.npy\n",
      "Loaded fval from dump/epoch01/rep06/fval.npy\n",
      "Loaded fval from dump/epoch01/rep07/fval.npy\n",
      "Loaded fval from dump/epoch01/rep08/fval.npy\n",
      "Loaded fval from dump/epoch01/rep09/fval.npy\n",
      "Loaded fval from dump/epoch01/rep10/fval.npy\n",
      "Loaded fval from dump/epoch01/rep11/fval.npy\n",
      "Loaded fval from dump/epoch01/rep12/fval.npy\n",
      "Loaded fval from dump/epoch01/rep13/fval.npy\n",
      "Loaded fval from dump/epoch01/rep14/fval.npy\n",
      "Loaded fval from dump/epoch01/rep15/fval.npy\n",
      "Loaded fval from dump/epoch01/rep16/fval.npy\n"
     ]
    }
   ],
   "source": [
    "epochs = 1\n",
    "fval = []\n",
    "reps = []\n",
    "for i in range(1,epochs+1):\n",
    "    r,f = load_data(struct, sel, i)\n",
    "    reps.append(r)\n",
    "    fval.append(f)\n",
    "\n",
    "    \n",
    "epcs = [np.full(f.shape,i+1) for i,f in enumerate(fval)]\n",
    "\n",
    "reps = np.concatenate(reps)\n",
    "fval = np.concatenate(fval)\n",
    "epcs = np.concatenate(epcs)"
   ]
  },
  {
   "cell_type": "code",
   "execution_count": 10,
   "id": "outstanding-rwanda",
   "metadata": {},
   "outputs": [
    {
     "name": "stdout",
     "output_type": "stream",
     "text": [
      "6245\n"
     ]
    },
    {
     "data": {
      "image/png": "[encoded data removed]",
      "text/plain": [
       "<Figure size 432x288 with 1 Axes>"
      ]
     },
     "metadata": {
      "needs_background": "light"
     },
     "output_type": "display_data"
    }
   ],
   "source": [
    "print(len(fval))\n",
    "hist, bin_edges = np.histogram(fval, bins=len(fval)//100)\n",
    "bin_centers = (bin_edges[:-1]+bin_edges[1:])/2\n",
    "plt.plot(bin_centers, hist)\n",
    "plt.axvline(startval, color=\"C2\")\n",
    "plt.show()"
   ]
  },
  {
   "cell_type": "code",
   "execution_count": null,
   "id": "willing-despite",
   "metadata": {},
   "outputs": [],
   "source": []
  }
 ],
 "metadata": {
  "kernelspec": {
   "display_name": "Python 3",
   "language": "python",
   "name": "python3"
  },
  "language_info": {
   "codemirror_mode": {
    "name": "ipython",
    "version": 3
   },
   "file_extension": ".py",
   "mimetype": "text/x-python",
   "name": "python",
   "nbconvert_exporter": "python",
   "pygments_lexer": "ipython3",
   "version": "3.7.10"
  }
 },
 "nbformat": 4,
 "nbformat_minor": 5
}
