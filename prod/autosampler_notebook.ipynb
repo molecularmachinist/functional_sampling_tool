{
 "cells": [
  {
   "cell_type": "code",
   "execution_count": 1,
   "id": "2b452d78",
   "metadata": {},
   "outputs": [],
   "source": [
    "import os, shutil\n",
    "import subprocess as subp\n",
    "import numpy as np\n",
    "import mdtraj\n",
    "import matplotlib.pyplot as plt"
   ]
  },
  {
   "cell_type": "code",
   "execution_count": 116,
   "id": "eb183536",
   "metadata": {},
   "outputs": [],
   "source": [
    "# number of simulations per epoch\n",
    "N = 16\n",
    "gmx = \"gmx\"\n",
    "\n",
    "# input files for grompping\n",
    "mdp   = \"mdrun.mdp\"\n",
    "topol = \"topol.top\"\n",
    "ndx   = \"index_grompp.ndx\"\n",
    "\n",
    "# sbatch template variables\n",
    "email= \"santeri.e.paajanen@helsinki.fi\"\n",
    "account=\"project_2004581\""
   ]
  },
  {
   "cell_type": "code",
   "execution_count": 3,
   "id": "717967e6",
   "metadata": {},
   "outputs": [],
   "source": [
    "def gromacs_command(cmd, *args, input=None, **kwargs):\n",
    "    \"\"\" Call the gromacs subcommand cmd. Both args and keys of kwargs should be without the leading dash.\n",
    "        output is redirected to output_<cmd>.txt.\n",
    "    \"\"\"\n",
    "    command = [gmx, cmd]+[\"-\"+a for a in args]\n",
    "    for k in kwargs:\n",
    "        command += [\"-\"+k, kwargs[k]]\n",
    "    \n",
    "    with open(\"output_%s.txt\"%cmd, \"w\") as fout:\n",
    "        compProc = subp.run(command, stdout=fout, stderr=subp.STDOUT, input=input)\n",
    "    \n",
    "    return compProc.returncode\n",
    "\n",
    "def init_rep(i):\n",
    "    \"\"\" Initializes rep i\n",
    "    \"\"\"\n",
    "    os.makedirs(\"epoch01/rep%02d\"%i)\n",
    "    \n",
    "    # If not found, just load the default\n",
    "    shutil.copyfile(\"initial/start.gro\", \"epoch01/rep%02d/start.gro\"%i)\n",
    "    print(\"Copied initial/start.gro to rep%02d, starting to grompp...\"%i)\n",
    "\n",
    "    # Save original working dir to come back to\n",
    "    prevdir = os.getcwd()\n",
    "    try:\n",
    "        os.chdir(\"epoch01/rep%02d\"%i)\n",
    "\n",
    "        rc=gromacs_command(\"grompp\", c=\"start.gro\", f=\"../../\"+mdp, n=\"../../\"+ndx,\n",
    "                           p=\"../../\"+topol, o=\"mdrun.tpr\", maxwarn=\"1\")\n",
    "\n",
    "        print(\"Process returned %d\"%rc)\n",
    "\n",
    "    finally:\n",
    "        # Whatever happens, we go back to the original working dir\n",
    "        os.chdir(prevdir)"
   ]
  },
  {
   "cell_type": "code",
   "execution_count": 4,
   "id": "compatible-furniture",
   "metadata": {},
   "outputs": [
    {
     "name": "stdout",
     "output_type": "stream",
     "text": [
      "Process returned 0\n"
     ]
    }
   ],
   "source": [
    "# Make a pdb file for mdtraj\n",
    "prevdir = os.getcwd()\n",
    "try:\n",
    "    os.chdir(\"initial\")\n",
    "\n",
    "    rc = gromacs_command(\"trjconv\", f=\"start.gro\", s=\"start.gro\", o=\"start.pdb\", input=b\"0\\n\")\n",
    "    print(\"Process returned %d\"%rc)\n",
    "finally:\n",
    "    os.chdir(prevdir)"
   ]
  },
  {
   "cell_type": "code",
   "execution_count": 5,
   "id": "47ade70a",
   "metadata": {},
   "outputs": [
    {
     "name": "stdout",
     "output_type": "stream",
     "text": [
      "Copied initial/start.gro to rep01, starting to grompp...\n",
      "Process returned 0\n",
      "Copied initial/start.gro to rep02, starting to grompp...\n",
      "Process returned 0\n",
      "Copied initial/start.gro to rep03, starting to grompp...\n",
      "Process returned 0\n",
      "Copied initial/start.gro to rep04, starting to grompp...\n",
      "Process returned 0\n",
      "Copied initial/start.gro to rep05, starting to grompp...\n",
      "Process returned 0\n",
      "Copied initial/start.gro to rep06, starting to grompp...\n",
      "Process returned 0\n",
      "Copied initial/start.gro to rep07, starting to grompp...\n",
      "Process returned 0\n",
      "Copied initial/start.gro to rep08, starting to grompp...\n",
      "Process returned 0\n",
      "Copied initial/start.gro to rep09, starting to grompp...\n",
      "Process returned 0\n",
      "Copied initial/start.gro to rep10, starting to grompp...\n",
      "Process returned 0\n",
      "Copied initial/start.gro to rep11, starting to grompp...\n",
      "Process returned 0\n",
      "Copied initial/start.gro to rep12, starting to grompp...\n",
      "Process returned 0\n",
      "Copied initial/start.gro to rep13, starting to grompp...\n",
      "Process returned 0\n",
      "Copied initial/start.gro to rep14, starting to grompp...\n",
      "Process returned 0\n",
      "Copied initial/start.gro to rep15, starting to grompp...\n",
      "Process returned 0\n",
      "Copied initial/start.gro to rep16, starting to grompp...\n",
      "Process returned 0\n"
     ]
    }
   ],
   "source": [
    "# Initial structures and first epoch\n",
    "os.makedirs(\"epoch01\", exist_ok=True)\n",
    "\n",
    "for i in range(1,N+1):\n",
    "    init_rep(i)"
   ]
  },
  {
   "cell_type": "code",
   "execution_count": 17,
   "id": "premier-province",
   "metadata": {},
   "outputs": [],
   "source": [
    "############################## User input ############################\n",
    "# To save memory we only load this selection\n",
    "# mdtraj selection string https://www.mdtraj.org/1.9.5/atom_selection.html\n",
    "select_str = \"protein and residue 638 and not (name =~ 'H.*')\"\n",
    "\n",
    "# Minimum and maximum values to sample from between. None to ignore boundary, \"start\" string to use the\n",
    "# initial value of the starting structure\n",
    "minval=None\n",
    "maxval=\"start\"\n",
    "\n",
    "\n",
    "def function_val(positions):\n",
    "    \"\"\"\n",
    "      Write here your analysis function. Positions will be\n",
    "        numpy array of shape (n,m,3) for n frames of m atoms.\n",
    "        Note that m is the number of atoms in the selection,\n",
    "        not the whole trajectory.\n",
    "      The function should return a numpy array of shape (n).\n",
    "    \"\"\"\n",
    "    m = positions.shape[-2]\n",
    "    # 4 residues match, so we separate them\n",
    "    m_res = m//4\n",
    "    # selections for each res\n",
    "    ind1 = np.array(list(range(m_res)))\n",
    "    ind2 = m_res+ind1\n",
    "    ind3 = m_res+ind2\n",
    "    ind4 = m_res+ind3\n",
    "    \n",
    "    # distances between average position of res1 to average position of res3\n",
    "    dist1 = np.linalg.norm(np.mean(positions[:,ind1,:], axis=-2)-np.mean(positions[:,ind3,:], axis=-2), axis=-1)\n",
    "    # same for res 2 and 4\n",
    "    dist2 = np.linalg.norm(np.mean(positions[:,ind2,:], axis=-2)-np.mean(positions[:,ind4,:], axis=-2), axis=-1)\n",
    "    \n",
    "    return np.minimum(dist1, dist2)\n",
    "\n",
    "\n",
    "\n",
    "############################## User input ############################"
   ]
  },
  {
   "cell_type": "code",
   "execution_count": 103,
   "id": "wanted-audit",
   "metadata": {},
   "outputs": [],
   "source": [
    "load_fval = False # set to True to recalculate analysis even if fval.npy is present\n",
    "epoch_dir = \"\" # set if current dir is not the dir with the epoch-directories (and initial-dir)\n",
    "\n",
    "def load_data(struct, sel, epoch):\n",
    "    fval = []\n",
    "    for i in range(1,N+1):\n",
    "        d = epoch_dir+\"epoch%02d/rep%02d/\"%(epoch, i)\n",
    "        if(not load_fval):\n",
    "            try:\n",
    "                fval.append(np.load(d+\"fval.npy\"))\n",
    "                print(\"Loaded fval from %sfval.npy\"%d)\n",
    "                continue\n",
    "            except FileNotFoundError:\n",
    "                print(\"Could not open %s\"%(d+\"fval.npy\"))\n",
    "                \n",
    "        print(\"Loading trajectory %s\"%(d+\"mdrun.xtc\"))\n",
    "        traj = mdtraj.load(d+\"mdrun.xtc\", top=struct,atom_indices=sel)\n",
    "        print(\"Calculating fval\")\n",
    "        fval.append(function_val(traj.xyz))\n",
    "        print(\"Saving fval\")\n",
    "        np.save(d+\"fval.npy\", fval[-1])\n",
    "    \n",
    "    reps = [np.full(f.shape,i+1) for i,f in enumerate(fval)]\n",
    "    frms = [np.arange(len(f)) for f in fval]\n",
    "    \n",
    "    return np.concatenate(reps), np.concatenate(fval), np.concatenate(frms)"
   ]
  },
  {
   "cell_type": "code",
   "execution_count": 18,
   "id": "bigger-growth",
   "metadata": {},
   "outputs": [
    {
     "name": "stdout",
     "output_type": "stream",
     "text": [
      "Loading structure and making selection\n",
      "Selected 28 atoms\n"
     ]
    }
   ],
   "source": [
    "print(\"Loading structure and making selection\")\n",
    "struct = mdtraj.load(epoch_dir+\"initial/start.pdb\")\n",
    "sel = struct.topology.select(select_str)\n",
    "\n",
    "startval = function_val(struct.xyz[:,sel,:])\n",
    "\n",
    "# Min and maxvals\n",
    "if(minval==\"start\"):\n",
    "    minval=startval\n",
    "elif(minval is None):\n",
    "    minval=-np.inf\n",
    "\n",
    "if(maxval==\"start\"):\n",
    "    maxval=startval\n",
    "elif(minval is None):\n",
    "    maxval=np.inf\n",
    "\n",
    "\n",
    "print(\"Selected %d atoms\"%len(sel))"
   ]
  },
  {
   "cell_type": "code",
   "execution_count": 104,
   "id": "level-wales",
   "metadata": {},
   "outputs": [
    {
     "name": "stdout",
     "output_type": "stream",
     "text": [
      "Loaded fval from epoch01/rep01/fval.npy\n",
      "Loaded fval from epoch01/rep02/fval.npy\n",
      "Loaded fval from epoch01/rep03/fval.npy\n",
      "Loaded fval from epoch01/rep04/fval.npy\n",
      "Loaded fval from epoch01/rep05/fval.npy\n",
      "Loaded fval from epoch01/rep06/fval.npy\n",
      "Loaded fval from epoch01/rep07/fval.npy\n",
      "Loaded fval from epoch01/rep08/fval.npy\n",
      "Loaded fval from epoch01/rep09/fval.npy\n",
      "Loaded fval from epoch01/rep10/fval.npy\n",
      "Loaded fval from epoch01/rep11/fval.npy\n",
      "Loaded fval from epoch01/rep12/fval.npy\n",
      "Loaded fval from epoch01/rep13/fval.npy\n",
      "Loaded fval from epoch01/rep14/fval.npy\n",
      "Loaded fval from epoch01/rep15/fval.npy\n",
      "Loaded fval from epoch01/rep16/fval.npy\n"
     ]
    }
   ],
   "source": [
    "epochs = 1\n",
    "fval = []\n",
    "reps = []\n",
    "frms = []\n",
    "for i in range(1,epochs+1):\n",
    "    r,f,fr = load_data(struct, sel, i)\n",
    "    reps.append(r)\n",
    "    fval.append(f)\n",
    "    frms.append(fr)\n",
    "\n",
    "    \n",
    "epcs = [np.full(f.shape,i+1) for i,f in enumerate(fval)]\n",
    "\n",
    "reps = np.concatenate(reps)\n",
    "fval = np.concatenate(fval)\n",
    "epcs = np.concatenate(epcs)\n",
    "frms = np.concatenate(frms)"
   ]
  },
  {
   "cell_type": "code",
   "execution_count": 105,
   "id": "outstanding-rwanda",
   "metadata": {},
   "outputs": [
    {
     "name": "stdout",
     "output_type": "stream",
     "text": [
      "9931\n",
      "[1.165798] 0.74376255 8412 84 0.0072260818311146325\n"
     ]
    },
    {
     "data": {
      "image/png": "[encoded data removed]",
      "text/plain": [
       "<Figure size 432x288 with 1 Axes>"
      ]
     },
     "metadata": {
      "needs_background": "light"
     },
     "output_type": "display_data"
    }
   ],
   "source": [
    "print(len(fval))\n",
    "_largest_val = np.max(fval)\n",
    "_lowest_val  = np.min(fval)\n",
    "_binmax = min(_largest_val, maxval)\n",
    "_binmin = max(_lowest_val,  minval)\n",
    "_maxbins = np.sum((fval>minval)*(fval<maxval))//100\n",
    "_binsize = (_largest_val-_lowest_val)/min(_maxbins,100)\n",
    "print(_binmax,_binmin, np.sum((fval>minval)*(fval<maxval)),_maxbins,_binsize)\n",
    "bin_edges = np.arange(_lowest_val,_largest_val+_binsize , _binsize)\n",
    "hist, bin_edges = np.histogram(fval, bins=bin_edges)\n",
    "bin_centers = (bin_edges[:-1]+bin_edges[1:])/2\n",
    "# higher edge larger than minval AND lower edge lower than maxval\n",
    "mask = (bin_edges[1:]>minval)*(bin_edges[:-1]<maxval)\n",
    "\n",
    "\n",
    "plt.plot(bin_centers, hist, color=\"C0\", alpha=0.5)\n",
    "plt.plot(bin_centers[mask], hist[mask], color=\"C0\")\n",
    "plt.axvline(startval, color=\"C2\")\n",
    "plt.show()\n"
   ]
  },
  {
   "cell_type": "code",
   "execution_count": 106,
   "id": "willing-despite",
   "metadata": {},
   "outputs": [
    {
     "name": "stdout",
     "output_type": "stream",
     "text": [
      "[ 4 13  2 18  8 21 12 17  4 16 16 56  0 22  7 11]\n"
     ]
    },
    {
     "data": {
      "image/png": "[encoded data removed]",
      "text/plain": [
       "<Figure size 432x288 with 1 Axes>"
      ]
     },
     "metadata": {
      "needs_background": "light"
     },
     "output_type": "display_data"
    }
   ],
   "source": [
    "_prob_mask = mask*(hist!=0)\n",
    "_hmax = np.max(hist[_prob_mask])*0.9\n",
    "_prob_mask *= hist<_hmax\n",
    "_hmin = np.min(hist[_prob_mask])\n",
    "\n",
    "_probs = np.log(1/(np.where(hist==0, 1,hist)/np.max(hist[_prob_mask])))*_prob_mask\n",
    "_probs = np.where(hist==0, 0,_probs)\n",
    "_probs /= np.sum(_probs)\n",
    "plt.plot(bin_centers, _probs)\n",
    "\n",
    "_rng = np.random.default_rng()\n",
    "_choices = _rng.choice(len(hist), size=N, p=_probs)\n",
    "print(_choices)\n",
    "plt.plot(bin_centers[_choices], _probs[_choices], \"ro\")\n",
    "\n",
    "plt.show()"
   ]
  },
  {
   "cell_type": "code",
   "execution_count": 107,
   "id": "rubber-channels",
   "metadata": {},
   "outputs": [
    {
     "name": "stdout",
     "output_type": "stream",
     "text": [
      "[ 0  2 16 14 20 19 18 13  8  4 19 17  4 28  4  0]\n"
     ]
    },
    {
     "data": {
      "image/png": "[encoded data removed]",
      "text/plain": [
       "<Figure size 432x288 with 1 Axes>"
      ]
     },
     "metadata": {
      "needs_background": "light"
     },
     "output_type": "display_data"
    }
   ],
   "source": [
    "_prob_mask = mask*(hist!=0)\n",
    "_hmax = np.max(hist[_prob_mask])*0.9\n",
    "_prob_mask *= hist<_hmax\n",
    "_hmin = np.min(hist[_prob_mask])\n",
    "\n",
    "# the \"energy\" of the highest point of the barrier, in kbt\n",
    "_barrier = 5\n",
    "_probs = np.exp(-(hist-_hmin)/(_hmax-_hmin)*_barrier)*_prob_mask\n",
    "_probs /= np.sum(_probs)\n",
    "plt.plot(bin_centers, _probs)\n",
    "\n",
    "_rng = np.random.default_rng()\n",
    "_choices = _rng.choice(len(hist), size=N, p=_probs)\n",
    "print(_choices)\n",
    "chosen_bins = _choices\n",
    "plt.plot(bin_centers[_choices], _probs[_choices], \"ro\")\n",
    "\n",
    "plt.show()"
   ]
  },
  {
   "cell_type": "code",
   "execution_count": 108,
   "id": "collectible-proxy",
   "metadata": {},
   "outputs": [
    {
     "name": "stdout",
     "output_type": "stream",
     "text": [
      "[ 4 20  7  9 10  2 21  7 14 32 12 32  4 22 15  9]\n"
     ]
    },
    {
     "data": {
      "image/png": "[encoded data removed]",
      "text/plain": [
       "<Figure size 432x288 with 1 Axes>"
      ]
     },
     "metadata": {
      "needs_background": "light"
     },
     "output_type": "display_data"
    }
   ],
   "source": [
    "_prob_mask = mask*(hist!=0)\n",
    "_hmax = np.max(hist[_prob_mask])*0.9\n",
    "_prob_mask *= hist<_hmax\n",
    "_hmin = np.min(hist[_prob_mask])\n",
    "\n",
    "_probs = ((_hmax-hist)/(_hmax-_hmin)) *_prob_mask\n",
    "_probs /= np.sum(_probs)\n",
    "plt.plot(bin_centers, _probs)\n",
    "\n",
    "_rng = np.random.default_rng()\n",
    "_choices = _rng.choice(len(hist), size=N, p=_probs)\n",
    "print(_choices)\n",
    "plt.plot(bin_centers[_choices], _probs[_choices], \"ro\")\n",
    "\n",
    "plt.show()"
   ]
  },
  {
   "cell_type": "code",
   "execution_count": 118,
   "id": "given-engagement",
   "metadata": {},
   "outputs": [],
   "source": [
    "def choose_frames(chosen_bins):\n",
    "    global bin_edges, fval, epcs, reps, frms\n",
    "    _rng = np.random.default_rng()\n",
    "    # lists for value, rpoch, rep and frame\n",
    "    v,e,r,f=[],[],[],[]\n",
    "    for bi in chosen_bins:\n",
    "        vals_in_bin = (fval >= bin_edges[bi])*(fval < bin_edges[bi+1])\n",
    "        ndx = _rng.choice(np.sum(vals_in_bin))\n",
    "        v.append(fval[vals_in_bin][ndx])\n",
    "        e.append(epcs[vals_in_bin][ndx])\n",
    "        r.append(reps[vals_in_bin][ndx])\n",
    "        f.append(frms[vals_in_bin][ndx])\n",
    "    \n",
    "    return np.array(fval), np.array(e), np.array(r), np.array(f)\n",
    "\n",
    "\n",
    "def next_rep(i,newepoch,oldepoch,rep,frm):\n",
    "    \"\"\" Initializes rep i of newepoch, taking the frame frm from rep of oldepoch\n",
    "    \"\"\"\n",
    "    global struct\n",
    "    os.makedirs(\"epoch%02d/rep%02d\"%(newepoch, i))\n",
    "    \n",
    "    print(\"Reading frame %d of epoch %d, rep %d\"%(frm, oldepoch, rep))\n",
    "    init_struct = mdtraj.load_frame(\"epoch%02d/rep%02d/mdrun.xtc\"%(oldepoch, rep), frm, top=struct)\n",
    "    \n",
    "    init_struct.save_gro(\"epoch%02d/rep%02d/start.gro\"%(newepoch, i))\n",
    "    print(\"Wrote structure to epoch%02d/rep%02d/start.gro, starting to grompp...\"%(newepoch, i))\n",
    "    \n",
    "    # Make a note of the origin\n",
    "    with open(\"epoch%02d/rep%02d/origin.txt\"%(newepoch, i), \"w\") as f:\n",
    "        f.write(\"# Origin of this trajectory:\\n\")\n",
    "        f.write(\"# epoch rep frame\\n\")\n",
    "        f.write(\"%d %d %d\\n\"%(oldepoch,rep,frm))\n",
    "        \n",
    "    # copy sbatch template\n",
    "    with open(\"templates/sbatch_launch.sh\") as fin:\n",
    "        with open(\"epoch%02d/sbatch_launch.sh\"%newepoch, \"w\") as fout:\n",
    "            fout.write(fin.read().format(i=newepoch, account=account, email=email))\n",
    "\n",
    "    # Save original working dir to come back to\n",
    "    prevdir = os.getcwd()\n",
    "    try:\n",
    "        os.chdir(\"epoch%02d/rep%02d\"%(newepoch, i))\n",
    "        \n",
    "        # The pdb structure seems to change the atom names, so maxwarn is 2\n",
    "        rc=gromacs_command(\"grompp\", c=\"start.gro\", f=\"../../\"+mdp, n=\"../../\"+ndx,\n",
    "                           p=\"../../\"+topol, o=\"mdrun.tpr\", maxwarn=\"2\")\n",
    "\n",
    "        print(\"Process returned %d\"%rc)\n",
    "\n",
    "    finally:\n",
    "        # Whatever happens, we go back to the original working dir\n",
    "        os.chdir(prevdir)"
   ]
  },
  {
   "cell_type": "code",
   "execution_count": 119,
   "id": "mature-elder",
   "metadata": {},
   "outputs": [
    {
     "name": "stdout",
     "output_type": "stream",
     "text": [
      "[1.1658626 1.2282704 1.257935  ... 1.085065  1.0691016 1.1071081] [1 1 1 1 1 1 1 1 1 1 1 1 1 1 1 1] [10 10  8  6  6  8 13  6  6 10  6  8 10  6 10 10] [311 314 126 648 652 284 454 609 339 328 551 220 281 425 328 311]\n",
      "Reading frame 311 of epoch 1, rep 10\n",
      "Wrote structure to epoch02/rep01/start.gro, starting to grompp...\n",
      "Process returned 0\n",
      "Reading frame 314 of epoch 1, rep 10\n",
      "Wrote structure to epoch02/rep02/start.gro, starting to grompp...\n",
      "Process returned 0\n",
      "Reading frame 126 of epoch 1, rep 8\n",
      "Wrote structure to epoch02/rep03/start.gro, starting to grompp...\n",
      "Process returned 0\n",
      "Reading frame 648 of epoch 1, rep 6\n",
      "Wrote structure to epoch02/rep04/start.gro, starting to grompp...\n",
      "Process returned 0\n",
      "Reading frame 652 of epoch 1, rep 6\n",
      "Wrote structure to epoch02/rep05/start.gro, starting to grompp...\n",
      "Process returned 0\n",
      "Reading frame 284 of epoch 1, rep 8\n",
      "Wrote structure to epoch02/rep06/start.gro, starting to grompp...\n",
      "Process returned 0\n",
      "Reading frame 454 of epoch 1, rep 13\n",
      "Wrote structure to epoch02/rep07/start.gro, starting to grompp...\n",
      "Process returned 0\n",
      "Reading frame 609 of epoch 1, rep 6\n",
      "Wrote structure to epoch02/rep08/start.gro, starting to grompp...\n",
      "Process returned 0\n",
      "Reading frame 339 of epoch 1, rep 6\n",
      "Wrote structure to epoch02/rep09/start.gro, starting to grompp...\n",
      "Process returned 0\n",
      "Reading frame 328 of epoch 1, rep 10\n",
      "Wrote structure to epoch02/rep10/start.gro, starting to grompp...\n",
      "Process returned 0\n",
      "Reading frame 551 of epoch 1, rep 6\n",
      "Wrote structure to epoch02/rep11/start.gro, starting to grompp...\n",
      "Process returned 0\n",
      "Reading frame 220 of epoch 1, rep 8\n",
      "Wrote structure to epoch02/rep12/start.gro, starting to grompp...\n",
      "Process returned 0\n",
      "Reading frame 281 of epoch 1, rep 10\n",
      "Wrote structure to epoch02/rep13/start.gro, starting to grompp...\n",
      "Process returned 0\n",
      "Reading frame 425 of epoch 1, rep 6\n",
      "Wrote structure to epoch02/rep14/start.gro, starting to grompp...\n",
      "Process returned 0\n",
      "Reading frame 328 of epoch 1, rep 10\n",
      "Wrote structure to epoch02/rep15/start.gro, starting to grompp...\n",
      "Process returned 0\n",
      "Reading frame 311 of epoch 1, rep 10\n",
      "Wrote structure to epoch02/rep16/start.gro, starting to grompp...\n",
      "Process returned 0\n"
     ]
    }
   ],
   "source": [
    "nextepoch = 2\n",
    "\n",
    "v, e, r, f = choose_frames(chosen_bins)\n",
    "print(v, e, r, f)\n",
    "\n",
    "for i, (epoch, rep, frm) in enumerate(zip(e,r,f)):\n",
    "    next_rep(i+1, nextepoch, epoch, rep, frm)"
   ]
  },
  {
   "cell_type": "code",
   "execution_count": null,
   "id": "mechanical-liechtenstein",
   "metadata": {},
   "outputs": [],
   "source": []
  }
 ],
 "metadata": {
  "kernelspec": {
   "display_name": "Python 3",
   "language": "python",
   "name": "python3"
  },
  "language_info": {
   "codemirror_mode": {
    "name": "ipython",
    "version": 3
   },
   "file_extension": ".py",
   "mimetype": "text/x-python",
   "name": "python",
   "nbconvert_exporter": "python",
   "pygments_lexer": "ipython3",
   "version": "3.7.10"
  }
 },
 "nbformat": 4,
 "nbformat_minor": 5
}
