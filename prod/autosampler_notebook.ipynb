{
 "cells": [
  {
   "cell_type": "code",
   "execution_count": 5,
   "id": "2b452d78",
   "metadata": {},
   "outputs": [],
   "source": [
    "import os, shutil\n",
    "import subprocess as subp"
   ]
  },
  {
   "cell_type": "code",
   "execution_count": 6,
   "id": "eb183536",
   "metadata": {},
   "outputs": [],
   "source": [
    "# number of simulations per epoch\n",
    "N = 16\n",
    "grompp = [\"gmx\",\"grompp\"]\n",
    "\n",
    "# input files for grompping\n",
    "mdp   = \"mdrun.mdp\"\n",
    "topol = \"topol.top\"\n",
    "ndx   = \"index_grompp.ndx\""
   ]
  },
  {
   "cell_type": "code",
   "execution_count": 7,
   "id": "717967e6",
   "metadata": {},
   "outputs": [],
   "source": [
    "def init_rep(i):\n",
    "    \"\"\" Initializes rep i\n",
    "    \"\"\"\n",
    "    os.makedirs(\"epoch01/rep%02d\"%i, exist_ok=True)\n",
    "    try:\n",
    "        # Try loading separate intial structures\n",
    "        shutil.copyfile(\"initial/start%02d.gro\"%i, \"epoch01/rep%02d/start.gro\"%i)\n",
    "        print(\"Copied initial/start%02d.gro, starting to grompp...\"%i)\n",
    "    except FileNotFoundError:\n",
    "        # If not found, just load the default\n",
    "        shutil.copyfile(\"initial/start.gro\", \"epoch01/rep%02d/start.gro\"%i)\n",
    "        print(\"Copied initial/start.gro to rep%02d, starting to grompp...\"%i)\n",
    "    \n",
    "    prevdir = os.getcwd()\n",
    "    os.chdir(\"epoch01/rep%02d\"%i)\n",
    "    \n",
    "    cmd = grompp + [\"-c\", \"start.gro\", \"-f\", \"../../\"+mdp, \"-n\", \"../../\"+ndx, \\\n",
    "                    \"-p\", \"../../\"+topol, \"-o\", \"mdrun.tpr\", \"-maxwarn\", \"1\"]\n",
    "\n",
    "    with open(\"output_grompp.txt\", \"w\") as fout:\n",
    "        compProc = subp.run(cmd, stdout=fout, stderr=subp.STDOUT)\n",
    "    \n",
    "    os.chdir(prevdir)\n",
    "    print(\"Process returned %d\"%compProc.returncode)"
   ]
  },
  {
   "cell_type": "code",
   "execution_count": 10,
   "id": "47ade70a",
   "metadata": {},
   "outputs": [
    {
     "name": "stdout",
     "output_type": "stream",
     "text": [
      "Copied initial/start.gro to rep01, starting to grompp...\n",
      "Process returned 0\n",
      "Copied initial/start.gro to rep02, starting to grompp...\n",
      "Process returned 0\n",
      "Copied initial/start.gro to rep03, starting to grompp...\n",
      "Process returned 0\n",
      "Copied initial/start.gro to rep04, starting to grompp...\n",
      "Process returned 0\n",
      "Copied initial/start.gro to rep05, starting to grompp...\n",
      "Process returned 0\n",
      "Copied initial/start.gro to rep06, starting to grompp...\n",
      "Process returned 0\n",
      "Copied initial/start.gro to rep07, starting to grompp...\n",
      "Process returned 0\n",
      "Copied initial/start.gro to rep08, starting to grompp...\n",
      "Process returned 0\n",
      "Copied initial/start.gro to rep09, starting to grompp...\n",
      "Process returned 0\n",
      "Copied initial/start.gro to rep10, starting to grompp...\n",
      "Process returned 0\n",
      "Copied initial/start.gro to rep11, starting to grompp...\n",
      "Process returned 0\n",
      "Copied initial/start.gro to rep12, starting to grompp...\n",
      "Process returned 0\n",
      "Copied initial/start.gro to rep13, starting to grompp...\n",
      "Process returned 0\n",
      "Copied initial/start.gro to rep14, starting to grompp...\n",
      "Process returned 0\n",
      "Copied initial/start.gro to rep15, starting to grompp...\n",
      "Process returned 0\n",
      "Copied initial/start.gro to rep16, starting to grompp...\n",
      "Process returned 0\n"
     ]
    }
   ],
   "source": [
    "# Initial structures and first epoch\n",
    "os.makedirs(\"epoch01\", exist_ok=True)\n",
    "\n",
    "for i in range(1,N+1):\n",
    "    init_rep(i)"
   ]
  },
  {
   "cell_type": "code",
   "execution_count": null,
   "id": "ccd36c1d",
   "metadata": {},
   "outputs": [],
   "source": []
  }
 ],
 "metadata": {
  "kernelspec": {
   "display_name": "Python 3",
   "language": "python",
   "name": "python3"
  },
  "language_info": {
   "codemirror_mode": {
    "name": "ipython",
    "version": 3
   },
   "file_extension": ".py",
   "mimetype": "text/x-python",
   "name": "python",
   "nbconvert_exporter": "python",
   "pygments_lexer": "ipython3",
   "version": "3.7.10"
  }
 },
 "nbformat": 4,
 "nbformat_minor": 5
}
